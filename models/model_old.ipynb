{
 "cells": [
  {
   "cell_type": "code",
   "execution_count": 1,
   "metadata": {},
   "outputs": [
    {
     "name": "stdout",
     "output_type": "stream",
     "text": [
      "[youtube] Extracting URL: https://www.youtube.com/watch?v=shfNmYroLhw\n",
      "[youtube] shfNmYroLhw: Downloading webpage\n",
      "[youtube] shfNmYroLhw: Downloading tv client config\n",
      "[youtube] shfNmYroLhw: Downloading player 7d1d50a6\n",
      "[youtube] shfNmYroLhw: Downloading tv player API JSON\n",
      "[youtube] shfNmYroLhw: Downloading ios player API JSON\n",
      "[youtube] shfNmYroLhw: Downloading m3u8 information\n",
      "[info] shfNmYroLhw: Downloading 1 format(s): 18\n",
      "[download] input_video.mp4 has already been downloaded\n",
      "[download] 100% of  128.52MiB\n",
      "Video downloaded: input_video.mp4\n"
     ]
    }
   ],
   "source": [
    "import yt_dlp\n",
    "\n",
    "def download_video(url, output_path=\"input_video.mp4\"):\n",
    "    options = {'format': 'best', 'outtmpl': output_path}\n",
    "    with yt_dlp.YoutubeDL(options) as ydl:\n",
    "        ydl.download([url])\n",
    "    print(f\"Video downloaded: {output_path}\")\n",
    "\n",
    "\n",
    "# link = input(\"Enter a video link: \")\n",
    "download_video(\"https://www.youtube.com/watch?v=shfNmYroLhw\")"
   ]
  },
  {
   "cell_type": "code",
   "execution_count": 2,
   "metadata": {},
   "outputs": [
    {
     "name": "stdout",
     "output_type": "stream",
     "text": [
      "🎯 Welcome to the AI Video-to-Ad Converter!\n"
     ]
    },
    {
     "ename": "ValueError",
     "evalue": "invalid literal for int() with base 10: ''",
     "output_type": "error",
     "traceback": [
      "\u001b[31m---------------------------------------------------------------------------\u001b[39m",
      "\u001b[31mValueError\u001b[39m                                Traceback (most recent call last)",
      "\u001b[36mCell\u001b[39m\u001b[36m \u001b[39m\u001b[32mIn[2]\u001b[39m\u001b[32m, line 12\u001b[39m\n\u001b[32m      9\u001b[39m     \u001b[38;5;28;01mreturn\u001b[39;00m keywords, ad_length, cta_text\n\u001b[32m     11\u001b[39m \u001b[38;5;66;03m# Example usage\u001b[39;00m\n\u001b[32m---> \u001b[39m\u001b[32m12\u001b[39m keywords, ad_length, cta_text = \u001b[43mget_user_inputs\u001b[49m\u001b[43m(\u001b[49m\u001b[43m)\u001b[49m\n\u001b[32m     13\u001b[39m \u001b[38;5;28mprint\u001b[39m(\u001b[33mf\u001b[39m\u001b[33m\"\u001b[39m\u001b[38;5;130;01m\\n\u001b[39;00m\u001b[33m🔍 Keywords: \u001b[39m\u001b[38;5;132;01m{\u001b[39;00mkeywords\u001b[38;5;132;01m}\u001b[39;00m\u001b[38;5;130;01m\\n\u001b[39;00m\u001b[33m⏳ Ad Length: \u001b[39m\u001b[38;5;132;01m{\u001b[39;00mad_length\u001b[38;5;132;01m}\u001b[39;00m\u001b[33ms\u001b[39m\u001b[38;5;130;01m\\n\u001b[39;00m\u001b[33m📢 CTA: \u001b[39m\u001b[38;5;132;01m{\u001b[39;00mcta_text\u001b[38;5;132;01m}\u001b[39;00m\u001b[33m\"\u001b[39m)\n",
      "\u001b[36mCell\u001b[39m\u001b[36m \u001b[39m\u001b[32mIn[2]\u001b[39m\u001b[32m, line 6\u001b[39m, in \u001b[36mget_user_inputs\u001b[39m\u001b[34m()\u001b[39m\n\u001b[32m      4\u001b[39m \u001b[38;5;66;03m# Collect user inputs\u001b[39;00m\n\u001b[32m      5\u001b[39m keywords = \u001b[38;5;28minput\u001b[39m(\u001b[33m\"\u001b[39m\u001b[33mEnter keywords to guide highlight selection (comma-separated): \u001b[39m\u001b[33m\"\u001b[39m).strip().split(\u001b[33m\"\u001b[39m\u001b[33m,\u001b[39m\u001b[33m\"\u001b[39m)\n\u001b[32m----> \u001b[39m\u001b[32m6\u001b[39m ad_length = \u001b[38;5;28;43mint\u001b[39;49m\u001b[43m(\u001b[49m\u001b[38;5;28;43minput\u001b[39;49m\u001b[43m(\u001b[49m\u001b[33;43m\"\u001b[39;49m\u001b[33;43mEnter desired ad length in seconds (e.g., 15, 30): \u001b[39;49m\u001b[33;43m\"\u001b[39;49m\u001b[43m)\u001b[49m\u001b[43m)\u001b[49m\n\u001b[32m      7\u001b[39m cta_text = \u001b[38;5;28minput\u001b[39m(\u001b[33m\"\u001b[39m\u001b[33mEnter Call-to-Action (CTA) for the ad (e.g., \u001b[39m\u001b[33m'\u001b[39m\u001b[33mBuy Now!\u001b[39m\u001b[33m'\u001b[39m\u001b[33m): \u001b[39m\u001b[33m\"\u001b[39m)\n\u001b[32m      9\u001b[39m \u001b[38;5;28;01mreturn\u001b[39;00m keywords, ad_length, cta_text\n",
      "\u001b[31mValueError\u001b[39m: invalid literal for int() with base 10: ''"
     ]
    }
   ],
   "source": [
    "def get_user_inputs():\n",
    "    print(\"🎯 Welcome to the AI Video-to-Ad Converter!\")\n",
    "    \n",
    "    # Collect user inputs\n",
    "    keywords = input(\"Enter keywords to guide highlight selection (comma-separated): \").strip().split(\",\")\n",
    "    ad_length = int(input(\"Enter desired ad length in seconds (e.g., 15, 30): \"))\n",
    "    cta_text = input(\"Enter Call-to-Action (CTA) for the ad (e.g., 'Buy Now!'): \")\n",
    "\n",
    "    return keywords, ad_length, cta_text\n",
    "\n",
    "# Example usage\n",
    "keywords, ad_length, cta_text = get_user_inputs()\n",
    "print(f\"\\n🔍 Keywords: {keywords}\\n⏳ Ad Length: {ad_length}s\\n📢 CTA: {cta_text}\")\n"
   ]
  },
  {
   "cell_type": "code",
   "execution_count": 3,
   "metadata": {},
   "outputs": [
    {
     "name": "stderr",
     "output_type": "stream",
     "text": [
      "c:\\Coding\\anaconda3\\envs\\Video\\Lib\\site-packages\\tqdm\\auto.py:21: TqdmWarning: IProgress not found. Please update jupyter and ipywidgets. See https://ipywidgets.readthedocs.io/en/stable/user_install.html\n",
      "  from .autonotebook import tqdm as notebook_tqdm\n",
      "VideoManager is deprecated and will be removed.\n"
     ]
    },
    {
     "name": "stdout",
     "output_type": "stream",
     "text": [
      "Detected 430 scenes\n"
     ]
    }
   ],
   "source": [
    "from scenedetect import VideoManager, SceneManager\n",
    "from scenedetect.detectors import ContentDetector\n",
    "\n",
    "def detect_scenes(video_path):\n",
    "    video_manager = VideoManager([video_path])\n",
    "    scene_manager = SceneManager()\n",
    "    scene_manager.add_detector(ContentDetector())\n",
    "    video_manager.start()\n",
    "    scene_manager.detect_scenes(frame_source=video_manager)\n",
    "    scenes = scene_manager.get_scene_list()\n",
    "    print(f\"Detected {len(scenes)} scenes\")\n",
    "    return scenes\n",
    "\n",
    "# Example usage\n",
    "scenes = detect_scenes(\"input_video.mp4\")\n"
   ]
  },
  {
   "cell_type": "code",
   "execution_count": 4,
   "metadata": {},
   "outputs": [
    {
     "name": "stdout",
     "output_type": "stream",
     "text": [
      "cpu\n"
     ]
    }
   ],
   "source": [
    "import torch\n",
    "import clip\n",
    "import cv2\n",
    "from PIL import Image\n",
    "\n",
    "# Ensure correct device (use GPU if available)\n",
    "device = \"cuda\" if torch.cuda.is_available() else \"cpu\"\n",
    "print(device)\n",
    "\n",
    "# Load the CLIP model and tokenizer\n",
    "model, preprocess = clip.load(\"ViT-B/32\", device=device)"
   ]
  },
  {
   "cell_type": "code",
   "execution_count": 5,
   "metadata": {},
   "outputs": [
    {
     "name": "stdout",
     "output_type": "stream",
     "text": [
      "[(123, 0.9922409057617188), (136, 0.9815152883529663), (303, 0.9760878086090088), (300, 0.9732826352119446), (15, 0.9709332585334778)]\n"
     ]
    }
   ],
   "source": [
    "def rank_scenes(video_path, scenes, keywords):\n",
    "    scene_scores = []\n",
    "    for i, (start, end) in enumerate(scenes):\n",
    "        # Convert FrameTimecode to integers (frame numbers)\n",
    "        start_frame = start.get_frames()\n",
    "        end_frame = end.get_frames()\n",
    "\n",
    "        # Capture the middle frame of each scene\n",
    "        cap = cv2.VideoCapture(video_path)\n",
    "        mid_frame = (start_frame + end_frame) // 2\n",
    "        cap.set(cv2.CAP_PROP_POS_FRAMES, mid_frame)\n",
    "        ret, frame = cap.read()\n",
    "        cap.release()\n",
    "\n",
    "        if not ret:\n",
    "            continue\n",
    "\n",
    "        # Preprocess the frame and compute similarity with keywords\n",
    "        image = preprocess(Image.fromarray(frame)).unsqueeze(0).to(device)\n",
    "        text_inputs = clip.tokenize(keywords).to(device)\n",
    "\n",
    "        with torch.no_grad():\n",
    "            image_features = model.encode_image(image)\n",
    "            text_features = model.encode_text(text_inputs)\n",
    "            similarity = (image_features @ text_features.T).softmax(dim=-1)\n",
    "\n",
    "        scene_scores.append((i, similarity.max().item()))\n",
    "\n",
    "    # Sort scenes by relevance (highest similarity first)\n",
    "    scene_scores.sort(key=lambda x: x[1], reverse=True)\n",
    "    return scene_scores\n",
    "\n",
    "# Example usage\n",
    "keywords = ['Boss', 'Sword', 'Battle', 'Armor']\n",
    "ranked_scenes = rank_scenes(\"input_video.mp4\", scenes, keywords)\n",
    "print(ranked_scenes[:5])  # Top 5 most relevant scenes"
   ]
  },
  {
   "cell_type": "code",
   "execution_count": 6,
   "metadata": {},
   "outputs": [
    {
     "name": "stderr",
     "output_type": "stream",
     "text": [
      "c:\\Coding\\anaconda3\\envs\\Video\\Lib\\site-packages\\whisper\\transcribe.py:126: UserWarning: FP16 is not supported on CPU; using FP32 instead\n",
      "  warnings.warn(\"FP16 is not supported on CPU; using FP32 instead\")\n"
     ]
    },
    {
     "name": "stdout",
     "output_type": "stream",
     "text": [
      "Transcript:   Every time I dial the feet of boss my character will change to a random enemy from Elden Ring I'm gonna try and beat the game and see how difficult or easier it is Alright, um, we're here and we started as a blive pretty good I don't know what he can do, but we actually have a good chance to be able to defeat a boss so I can swing the blade and then Oh Okay, all right, we're moving out boys. Let's start with one of these Okay, oh dude, we are washing him. This is crazy dude, we're washing him Oh, there we go. Okay, no, we're cooking boys. I'm kind of worried that like we'll beat the first boss And then we'll transform into like the worst character in this man I still feel like there's gonna be some bosses that are gonna give us some trouble just because I don't know how it's gonna go All right boys It's almost time. Uh something tells me we don't need to summon anyone in for this right? Okay, what you got, bro? Let me let me start off with one of these Bunk Ah, this is fine. Wait, let's finish him with a big move That's what I thought, bro That's what I thought first boss defeated this hit a grace and see what happens. Give me something good Uh, all right, God's you know, Possible. Is that better than what we had? This is this I'm sprinting. I'm currently sprinting. Okay Oh, wait, that's kind of crap and then I assume he can throw one of them fireballs Oh, he does way more than that What's up, bro? What's up now? What's up? What you got? I do something try something do you worse? Do try something, bro Just try something I dare you bro. I dare you yet. I didn't think so don't do it, bro Don't do it. Oh my god Uh, okay, what's up? What's up? You ain't got police like me son You ain't got a police like me, bro. What's up, bro? Hit him with one of these Oh, he's actually he's kind of mission there But Oh, shush. He kind of did half my health which makes me kind of scared for god's right, but I'm sure it would be fine All right boys, here's our time. Let's see if we can do it. How do we how do we approach? I say we go for a jump Shoot bunk Real run boys Exound we just bat bat bat bat bat bat. Okay. We evacuate from this as fast as my guy Walk all right now jump with it. That was huge one more Oh Okay, if we get someone weaker than this guy This is gonna be a challenge, bro. If we get somebody crazy, it's gonna be easy. All right. I said a grace I see here we get okay so early on too. He's got a jump attack dude. Look at the way he's swinging, bro He's got kicks. I No, no, no, no, no, no, no, no, no, no, no, this is bunkers. Who's our who's next on our boss list, bro? I think we're gonna try beat redone I think we need the academy key or whatever it is to get in Oh, sorry, I didn't mean to do that. Oh, all right. Let's test this out, bro. What can he do? Dude, he's just smacking him. You don't want none of this, bro Oh my god, I can actually take him in the air After making the long journey to K-Lid, I finally made it to Bore's where redone was. All right. I'm on the way I'm on the way if I die and then end up as like another much worse character It's not it's not gonna be looking good. He's gonna shoot the arrows Oh dude, I ducked. I don't literally ducked under that arrow. Okay Dodge, ow. All right, jump for him. Jump for him But but oh Okay, okay, I ran into it. I ran into it boys. Oh, that's that's a lot of damage. That's a lot of damage back up back up back up He's coming for me, bro. He knows he knows who the threat is. Uh-oh. Okay. All right phase one is done Um This is fine. I'm gonna revive and I'm gonna be somebody even better. All right, whatever. Let's see. Let's just see what it is. Okay I mean it's not really the best Can he do can he do the thing? Okay I think we might be losing this guy pretty soon, but well we'll give it a go, bro We'll give it a go. Boys all we can do is hope this guy does a lot of damage for some reason use the thing Use the thing Okay go I don't have a dodge every time I dodge he does he does the attack Um, oh Why did I do that? I mean I have the shield the shield actually seems it pretty good honestly It could be worse. Oh, he seems to kind of be cheesy in a bit by staying in between his legs I just need you to not get hit by that I Almost jumped directly into it. The thing do the thing do the thing Shields. Oh my god. Yes More of that please now. Did this is bonkers go. Oh Oh my god All right, let's see who we get a no-way, bro. Wait, we about to have a mirror match. Does this take up mana or no? It seems like we have infinite mana to be honest. All right bro, what's up? What's up? Okay, that's good damage. I'm literally you don't want to mage that all bro. All right, uh Bing bling bling bling bling bling and then This spinning weapons actually kind of sick and we're just gonna spread straight the whole way wait I've just learned some tech But if I go like bang bang we start TP and bro. Yeah, what's good, bro? Zap zap zap zap okay, there wasn't too much damage yet. We're kind of rocking him Go go go go he's on me. He's eating me. He's eating me Okay, he used to use this use this use the spinny blade thing Um never mind I guess oh That was a boss do we get around him go apparently not I don't know if it bugged or it just doesn't count him as A main boss, but that's that's kind of that makes sense I guess all right. Let's roll out. Um me v me Let's go all right hit him with the thing The wise is harder than it normally is make just kill him all at this point like oh Okay, lock on to her. No the boss Oh, this is the worst okay, that was that was huge. I'm actually get it off that time. All right. There should be it There should be it. There we go. There we go. There we go. There we go. Let's face one Um Okay rough start. This is kind of sick though The wizard battle popping off. Oh, I would have dodged that personally Up to you though. I guess let's try one of these. Oh, I'm right in the middle of that. Yeah. All right. Let's hope that hits her Okay, it did uh go go go spells That's bad. That's bad. That was bad. That was bad. Oh Oh my god Okay, she just took it to the chest Jesus for a second. I was kind of worried. That was kind of sick though, but I'm glad we got run out early Because she was not kind of stand up to the likes of uh Some bosses coming up. All right. Let's see who we get another boss defeated bell bearing hunter Yeah Okay, I don't know how strong this is going to be, but we do look kind of we look kind of good. All right, so this guy can swing He can Do this It looks a little buggy Um But it's it's pretty there's pretty cool. I think we're gonna go through the ravine. All right run pass that guy And then we go up this we are so large. I do not want to fall off. All right. Let's give this a go Oh, there he is. Oh, okay Okay, okay, how much damage are we doing? We're doing an okay amount. All right and go That was huge. I think that's what makes us so strong is this guy is just the fact that we uh Knock him down over and over That is what's up. Uh, let's see if that counts as a boss Apparently not all right. We'll keep it rolling. I just keep it pushing boys. Uh, no. Thank you. No. Thank you. No. Thank you I'm not dealing with that. All right. Let's charge up one of these Okay We got the stack. He's just got health on health though easy dodge Not so easy dodge. Oh, I hate this guy. I hate this guy. I think we can easily get another knock He will heal That was a little embarrassing that if we get a character that's even worse. I We might be cooked we might be finished Okay Oh, it's omen king as well. So he got the He got the blade on him so I can just keep spamming that and he'll just he'll just go He'll just go silly with it if I just keep going. I just get a revenge. Yo, what's up now then Bunk, bunk, bunk, bunk, bunk, bunk, bunk, hammer Finish him All right, we are we are in the source boys Boys, we're in the source. Let's go. We're gonna start with One of these I missed. Oh, oh, dude. We stagger him so easily. This is actually bonkers Worse his bonkers is he weak to like the type of damage I do though try it, bro. Just don't try it, bro And then we jump in the air dodge that hit him down with one of these. Yeah, nah dude. This is this is cernz This is cernz dude. I actually thought this guy was gonna be a challenge, bro Bunk He's dead. That was insane. I'm gonna lose him now on I kiss. He was a boss. We only got some play with him for like five minutes Um, I guess I didn't even know dragons were in this Can I move? Sort of okay. Well, this is well and good I So I can breathe fire Okay Yep, this works bro bro bro bro bro bro bro bro What am I meant to do dude? I'll I'll see it this sucks. Oh Okay, dude, this is this is this is done. This is so dumb Um, I'm not getting through it's been so difficult to like maneuver myself a shame that I could oh my god You know use it on him, bro We miss like this guy is not fitting in the boss room. Okay. I think it was you meant to go this way I don't I don't know how we're gonna be able to do this. I May have to just kill myself to get a different Mob okay. Okay. Okay. Okay. Okay. This is I can't play this bro. Okay Jump up bro every time he jumps he goes backwards a little bit. Oh Close oh no Where am I this is not working? I like I'm not getting up through that bro. All right boys boys. I like the dragon But I'm gonna have to let these dudes kill me because we just We can't do this Oh Okay, let's see who we get next. There's a bunch more dragons we could get which would be very funny Um, okay We are we got like the blood oh one of the black knife assassins Jesus oh my god And then we can do that all right all right um down this way All right this way this way this way Uh, oh get away from me bro. Is there a grace it? There is and then we go up the tree And we got a little boss fight coming up boys. You know, why can't we get like a real strong boss to play as instead of these like random dudes You know god-free the first Elden lord. Let's see what we can do stab them in the back wait What just happened is he dead wait that he just gained health back I saw oh You see those dodges and now getting one of them I don't know how this works, but it seems to work Oh, all right hitting with a back sad thing again It seems to just hit every time without fail Just just balance of the death oh Oh That was something all right who are we gonna become another crucible night. I think this guy looks cooler. No way This is max speed oh Bro, I mean yeah We can jab and we can swing it what else can I do Oh That looks kind of good all right fine fine fine. This is fine. Oh, we're heading up there, but I forgot This is just a boss rush from this point onwards. There's a chance. We lose. Yo What's good shorty? You know what normally I don't But like she kind of bad for real so it's like I might as well. Yeah, that's right Who's made an list now? Ain't me Melana do your thing is she here? Yo do something Wait, why do I only do like two damage all right. I'm there. It's just saccharine. That's huge. All right. She's doing something I don't know what that is dodged. Yeah. Yeah. Yeah. We're just going blow for blow luckily. I have like Really good defense. I just don't I just don't know if I need to back out I need to back out Melana you're doing great. I should not have ran in there I'll admit Bush Bush I'm looking low. I'm looking low. I only just 41 damage. I don't I don't like playing as this guy wait Can I do that again? He's down Go in I'm coming to save you do he's popping a 1-0 on her get off my maiden. Oh, that was big Melana do something do something now Now would be a good time. No. Oh, wait. She's still alive That was way too close. Come on die Please oh My days. I'm surprised we beat that is this guy. I think if we didn't have the summon we would have lost okay Uh Yeah, I feel like this is going to be kind of buggy, but um I'm kind of down for this. It is a little janky, but loretta is kind of cool Oh, and we can do this Oh, that's that's actually sick. Okay. I then made my way up to the fire giant and nothing Really happened on the way so here's the speed run of it We're there for arms Think of all the things that she can do to it Your carnish tackle And then imagine ten more if I'm honest I'm not confident. However, we're going in. There he is. What the hell? Oh, okay. Guess that was a bug. I mean we're on a horse Which is good Ah, I don't seem to take any sort of knockback Which is kind of good You don't know me son. Oh, he knows me. He knows me. I am doing no damage on my days Why am I on the Okay, honestly for who I was it wasn't a bad attempt. Okay Commander Neil Not bad. I think we're going in but if I do this we've got some boys Oh, okay How we doing damage wise Pretty chunky actually to be fair that fireball is coming for me, but the boys are out. Yes, there's legs boys I need to just get a few more hits and we can get them into the next phase Come on one more one more one more Alive there we go. All right face to I know we're suddenly doing no damage Okay, okay, okay, this is fine. This is all fine. I just need hit one more time Oh five days wait, he's not dead or is he he's not dead? Is he dead? What is happening Okay, but we beat the fire giant. All right. Well, let's see who we get That's sick. Okay, move. Okay. We got swing swing stab and then We've got the blood splatter attack and then what is Right, how is that gonna work against the bosses? I I guess this is pretty cool. I don't know how good he's gonna be though I then proceeded to burn millenar alive and we woke up in the crumbling farm azula This is just silliness, bro. Oh my god wait. This is bonkers Dude, that's it actually insane. Uh, this is the room right is this the do it all right All right, okay, no, we do good damage. Wait, we're kind of messing them up. All right blood And then the other guy Blood Do something okay? Do it if I die here. I'm gonna be so sad. I really want to play as a wait wait. He's so low We stay behind the pillar. I'm lich. I don't know how but I'm sourcing him. Let's do it Go one two three and then bam Oh, we just one tapped him. I don't know what happened. We did it. We did it. We did it. We did it We did it. We did it. Uh, I assume we're gonna end up as a different uh guy here. So It was kind of fun to play as him for for at least a little while. Oh, that's We've been waiting the whole time For some of this. Okay, so we can go bang bang bang bang bang bang Was it a counter? What is this? So that's my jump attack. Wait, how much damage did we do? Um What is happening I don't know how we ended up doing that but that was bonkers. Do you know what the damage is like obviously good But it's not insane Get your raggedy do do looking at okay. I think it's this way. All right Let's go. That's wrong And then we hit with the shoot dude. This is this is actually unfair Dude dude dude look at this Now no no we get real fight look at this dodge bro Wait, how do I use that move that I used before? Do I'm dashing around in the air? Okay, he landed ahead He's trying it dude. We're not even the strongest version of her. Oh My god, the one boat that did these combos are going crazy Huh, we might just be the goats. I don't know who we're better spawn back in as but um Ain't gonna be no better than that. I don't think Anyway, um would have been cool to get him at an actual hard boss fight, but Oh my god dude. Do what is happening I just I just held this sprint button my uh oh Hey, okay, so it's up Here okay watch watch how I'm about to pull up on him. Yeah, let me let him speak. Let me let him speak Tell him me not to become the elder lord. I'll tell you he's gonna become the elder lord, right? That's right That's right bro. Don't try nothing. You don't know our beans You don't know the stuff I've done. Oh, no, no, no, let you get back up bro. Don't wait. Don't wait. No, yeah I'll let you get back up you ain't getting nowhere bro. Oh you still alive huh? Nope All right, let's see who we get we're gonna need something good. We're gonna need something good Then there's not many left and I'll tell you we're missing some big ones We are on a roll. This is exactly what I needed. This is exactly what I needed for something like the next fight I'm not even gonna test some moves out until I'm in there. We're just gonna see what happens Okay, so my dash is an attack and then we have We can do whatever that is swing the blade at him Okay, okay Uh-huh You're I can't even see him. Oh, that does hurt Oh, I hit him straight. Yeah, okay. Wait. He is kind of dangerous though. All right. All right. Let's use my special Let's do that again Slant back down on it. Oh, this is a massacre bro. Hey, hey, horror Lou, bro. Hey, guess what? Fidget spinner, bro. That was overpowered. I feel bad. I actually feel bad. We might be that guy Now are we playing as one of the strongest bosses in the game? Yes. Let's see what luck we get For the final boss That's not good. That is not good boy. Now. I'm gonna go give it my best shot. I'm not gonna give up hope I guess we'll just have to give it a go. Let's just try it. Let's just try it. Let's just try it This is such a disaster. I don't know if this is the same guys earlier I have a feeling this is a weaker version. Let's find out All right. We've got no summons All right. How much damage we do? Oh, okay. Okay. Okay. Wait. Wait. Wait. Wait. Wait. Wait. Wait All right, we We're just so weak even like Absolutely just bashing his is braining with barely doing any damage Uh shield shields Okay, good thing he doesn't heal because let me see we are not doing enough damage. No way am I beating him like this for surely not That was done. That was done. That was done. That was done. That was done. That was really done I'll tell you my heart wasn't in it. Yeah, if I'm being honest that was not uh, I just didn't believe we were beating the old and beast with this guy Oh, yeah, oh do Oh, but he's getting done. Okay. Okay. I'm not even wasting time. Let's go. Let's just go dude. I can't see him Okay, but it's not even fair We're trading blows. Oh Dude dude Dude, I'm just stomping on him. Oh my god. That was my dash, bro He can't catch me when I when I'm popping one of those. All right. What is our our special move regal roll? What does that do? Okay, it kind of stuns in then this is actually insane. Okay wait Wait dodge dodge easy. Okay, I didn't dodge that He's done. He's done. He's done. He's done. All right. I have no idea if it's gonna morph me into a different mob Um But like I would do with steaming right now. Okay. Okay Oh, what is this dude? Why is he looks a swan Okay, let's do it. Let's do it We just tank the fire. All right. Wait. What can we do? This is gonna be insane Okay, okay, he could still definitely be us and then I have to restart both fights And I would not have these uh these characters so there's kind of a lot riding on this Okay, where are you doing that move where he puts our rings on the floor? All right batten batten batten That was huge. He's just light that bro. What is even happening Uh Um go Bro do that again Go go go go go Did we do it? Get him Oh my god, what sick way to end it though God slain Dude, this is crazy. I know where they got Ratan on the phone If you enjoyed click one of these videos on screen and uh, yeah, sniff my feet and uh, you know, it is\n"
     ]
    },
    {
     "data": {
      "text/plain": [
       "\" Every time I dial the feet of boss my character will change to a random enemy from Elden Ring I'm gonna try and beat the game and see how difficult or easier it is Alright, um, we're here and we started as a blive pretty good I don't know what he can do, but we actually have a good chance to be able to defeat a boss so I can swing the blade and then Oh Okay, all right, we're moving out boys. Let's start with one of these Okay, oh dude, we are washing him. This is crazy dude, we're washing him Oh, there we go. Okay, no, we're cooking boys. I'm kind of worried that like we'll beat the first boss And then we'll transform into like the worst character in this man I still feel like there's gonna be some bosses that are gonna give us some trouble just because I don't know how it's gonna go All right boys It's almost time. Uh something tells me we don't need to summon anyone in for this right? Okay, what you got, bro? Let me let me start off with one of these Bunk Ah, this is fine. Wait, let's finish him with a big move That's what I thought, bro That's what I thought first boss defeated this hit a grace and see what happens. Give me something good Uh, all right, God's you know, Possible. Is that better than what we had? This is this I'm sprinting. I'm currently sprinting. Okay Oh, wait, that's kind of crap and then I assume he can throw one of them fireballs Oh, he does way more than that What's up, bro? What's up now? What's up? What you got? I do something try something do you worse? Do try something, bro Just try something I dare you bro. I dare you yet. I didn't think so don't do it, bro Don't do it. Oh my god Uh, okay, what's up? What's up? You ain't got police like me son You ain't got a police like me, bro. What's up, bro? Hit him with one of these Oh, he's actually he's kind of mission there But Oh, shush. He kind of did half my health which makes me kind of scared for god's right, but I'm sure it would be fine All right boys, here's our time. Let's see if we can do it. How do we how do we approach? I say we go for a jump Shoot bunk Real run boys Exound we just bat bat bat bat bat bat. Okay. We evacuate from this as fast as my guy Walk all right now jump with it. That was huge one more Oh Okay, if we get someone weaker than this guy This is gonna be a challenge, bro. If we get somebody crazy, it's gonna be easy. All right. I said a grace I see here we get okay so early on too. He's got a jump attack dude. Look at the way he's swinging, bro He's got kicks. I No, no, no, no, no, no, no, no, no, no, no, this is bunkers. Who's our who's next on our boss list, bro? I think we're gonna try beat redone I think we need the academy key or whatever it is to get in Oh, sorry, I didn't mean to do that. Oh, all right. Let's test this out, bro. What can he do? Dude, he's just smacking him. You don't want none of this, bro Oh my god, I can actually take him in the air After making the long journey to K-Lid, I finally made it to Bore's where redone was. All right. I'm on the way I'm on the way if I die and then end up as like another much worse character It's not it's not gonna be looking good. He's gonna shoot the arrows Oh dude, I ducked. I don't literally ducked under that arrow. Okay Dodge, ow. All right, jump for him. Jump for him But but oh Okay, okay, I ran into it. I ran into it boys. Oh, that's that's a lot of damage. That's a lot of damage back up back up back up He's coming for me, bro. He knows he knows who the threat is. Uh-oh. Okay. All right phase one is done Um This is fine. I'm gonna revive and I'm gonna be somebody even better. All right, whatever. Let's see. Let's just see what it is. Okay I mean it's not really the best Can he do can he do the thing? Okay I think we might be losing this guy pretty soon, but well we'll give it a go, bro We'll give it a go. Boys all we can do is hope this guy does a lot of damage for some reason use the thing Use the thing Okay go I don't have a dodge every time I dodge he does he does the attack Um, oh Why did I do that? I mean I have the shield the shield actually seems it pretty good honestly It could be worse. Oh, he seems to kind of be cheesy in a bit by staying in between his legs I just need you to not get hit by that I Almost jumped directly into it. The thing do the thing do the thing Shields. Oh my god. Yes More of that please now. Did this is bonkers go. Oh Oh my god All right, let's see who we get a no-way, bro. Wait, we about to have a mirror match. Does this take up mana or no? It seems like we have infinite mana to be honest. All right bro, what's up? What's up? Okay, that's good damage. I'm literally you don't want to mage that all bro. All right, uh Bing bling bling bling bling bling and then This spinning weapons actually kind of sick and we're just gonna spread straight the whole way wait I've just learned some tech But if I go like bang bang we start TP and bro. Yeah, what's good, bro? Zap zap zap zap okay, there wasn't too much damage yet. We're kind of rocking him Go go go go he's on me. He's eating me. He's eating me Okay, he used to use this use this use the spinny blade thing Um never mind I guess oh That was a boss do we get around him go apparently not I don't know if it bugged or it just doesn't count him as A main boss, but that's that's kind of that makes sense I guess all right. Let's roll out. Um me v me Let's go all right hit him with the thing The wise is harder than it normally is make just kill him all at this point like oh Okay, lock on to her. No the boss Oh, this is the worst okay, that was that was huge. I'm actually get it off that time. All right. There should be it There should be it. There we go. There we go. There we go. There we go. Let's face one Um Okay rough start. This is kind of sick though The wizard battle popping off. Oh, I would have dodged that personally Up to you though. I guess let's try one of these. Oh, I'm right in the middle of that. Yeah. All right. Let's hope that hits her Okay, it did uh go go go spells That's bad. That's bad. That was bad. That was bad. Oh Oh my god Okay, she just took it to the chest Jesus for a second. I was kind of worried. That was kind of sick though, but I'm glad we got run out early Because she was not kind of stand up to the likes of uh Some bosses coming up. All right. Let's see who we get another boss defeated bell bearing hunter Yeah Okay, I don't know how strong this is going to be, but we do look kind of we look kind of good. All right, so this guy can swing He can Do this It looks a little buggy Um But it's it's pretty there's pretty cool. I think we're gonna go through the ravine. All right run pass that guy And then we go up this we are so large. I do not want to fall off. All right. Let's give this a go Oh, there he is. Oh, okay Okay, okay, how much damage are we doing? We're doing an okay amount. All right and go That was huge. I think that's what makes us so strong is this guy is just the fact that we uh Knock him down over and over That is what's up. Uh, let's see if that counts as a boss Apparently not all right. We'll keep it rolling. I just keep it pushing boys. Uh, no. Thank you. No. Thank you. No. Thank you I'm not dealing with that. All right. Let's charge up one of these Okay We got the stack. He's just got health on health though easy dodge Not so easy dodge. Oh, I hate this guy. I hate this guy. I think we can easily get another knock He will heal That was a little embarrassing that if we get a character that's even worse. I We might be cooked we might be finished Okay Oh, it's omen king as well. So he got the He got the blade on him so I can just keep spamming that and he'll just he'll just go He'll just go silly with it if I just keep going. I just get a revenge. Yo, what's up now then Bunk, bunk, bunk, bunk, bunk, bunk, bunk, hammer Finish him All right, we are we are in the source boys Boys, we're in the source. Let's go. We're gonna start with One of these I missed. Oh, oh, dude. We stagger him so easily. This is actually bonkers Worse his bonkers is he weak to like the type of damage I do though try it, bro. Just don't try it, bro And then we jump in the air dodge that hit him down with one of these. Yeah, nah dude. This is this is cernz This is cernz dude. I actually thought this guy was gonna be a challenge, bro Bunk He's dead. That was insane. I'm gonna lose him now on I kiss. He was a boss. We only got some play with him for like five minutes Um, I guess I didn't even know dragons were in this Can I move? Sort of okay. Well, this is well and good I So I can breathe fire Okay Yep, this works bro bro bro bro bro bro bro bro What am I meant to do dude? I'll I'll see it this sucks. Oh Okay, dude, this is this is this is done. This is so dumb Um, I'm not getting through it's been so difficult to like maneuver myself a shame that I could oh my god You know use it on him, bro We miss like this guy is not fitting in the boss room. Okay. I think it was you meant to go this way I don't I don't know how we're gonna be able to do this. I May have to just kill myself to get a different Mob okay. Okay. Okay. Okay. Okay. This is I can't play this bro. Okay Jump up bro every time he jumps he goes backwards a little bit. Oh Close oh no Where am I this is not working? I like I'm not getting up through that bro. All right boys boys. I like the dragon But I'm gonna have to let these dudes kill me because we just We can't do this Oh Okay, let's see who we get next. There's a bunch more dragons we could get which would be very funny Um, okay We are we got like the blood oh one of the black knife assassins Jesus oh my god And then we can do that all right all right um down this way All right this way this way this way Uh, oh get away from me bro. Is there a grace it? There is and then we go up the tree And we got a little boss fight coming up boys. You know, why can't we get like a real strong boss to play as instead of these like random dudes You know god-free the first Elden lord. Let's see what we can do stab them in the back wait What just happened is he dead wait that he just gained health back I saw oh You see those dodges and now getting one of them I don't know how this works, but it seems to work Oh, all right hitting with a back sad thing again It seems to just hit every time without fail Just just balance of the death oh Oh That was something all right who are we gonna become another crucible night. I think this guy looks cooler. No way This is max speed oh Bro, I mean yeah We can jab and we can swing it what else can I do Oh That looks kind of good all right fine fine fine. This is fine. Oh, we're heading up there, but I forgot This is just a boss rush from this point onwards. There's a chance. We lose. Yo What's good shorty? You know what normally I don't But like she kind of bad for real so it's like I might as well. Yeah, that's right Who's made an list now? Ain't me Melana do your thing is she here? Yo do something Wait, why do I only do like two damage all right. I'm there. It's just saccharine. That's huge. All right. She's doing something I don't know what that is dodged. Yeah. Yeah. Yeah. We're just going blow for blow luckily. I have like Really good defense. I just don't I just don't know if I need to back out I need to back out Melana you're doing great. I should not have ran in there I'll admit Bush Bush I'm looking low. I'm looking low. I only just 41 damage. I don't I don't like playing as this guy wait Can I do that again? He's down Go in I'm coming to save you do he's popping a 1-0 on her get off my maiden. Oh, that was big Melana do something do something now Now would be a good time. No. Oh, wait. She's still alive That was way too close. Come on die Please oh My days. I'm surprised we beat that is this guy. I think if we didn't have the summon we would have lost okay Uh Yeah, I feel like this is going to be kind of buggy, but um I'm kind of down for this. It is a little janky, but loretta is kind of cool Oh, and we can do this Oh, that's that's actually sick. Okay. I then made my way up to the fire giant and nothing Really happened on the way so here's the speed run of it We're there for arms Think of all the things that she can do to it Your carnish tackle And then imagine ten more if I'm honest I'm not confident. However, we're going in. There he is. What the hell? Oh, okay. Guess that was a bug. I mean we're on a horse Which is good Ah, I don't seem to take any sort of knockback Which is kind of good You don't know me son. Oh, he knows me. He knows me. I am doing no damage on my days Why am I on the Okay, honestly for who I was it wasn't a bad attempt. Okay Commander Neil Not bad. I think we're going in but if I do this we've got some boys Oh, okay How we doing damage wise Pretty chunky actually to be fair that fireball is coming for me, but the boys are out. Yes, there's legs boys I need to just get a few more hits and we can get them into the next phase Come on one more one more one more Alive there we go. All right face to I know we're suddenly doing no damage Okay, okay, okay, this is fine. This is all fine. I just need hit one more time Oh five days wait, he's not dead or is he he's not dead? Is he dead? What is happening Okay, but we beat the fire giant. All right. Well, let's see who we get That's sick. Okay, move. Okay. We got swing swing stab and then We've got the blood splatter attack and then what is Right, how is that gonna work against the bosses? I I guess this is pretty cool. I don't know how good he's gonna be though I then proceeded to burn millenar alive and we woke up in the crumbling farm azula This is just silliness, bro. Oh my god wait. This is bonkers Dude, that's it actually insane. Uh, this is the room right is this the do it all right All right, okay, no, we do good damage. Wait, we're kind of messing them up. All right blood And then the other guy Blood Do something okay? Do it if I die here. I'm gonna be so sad. I really want to play as a wait wait. He's so low We stay behind the pillar. I'm lich. I don't know how but I'm sourcing him. Let's do it Go one two three and then bam Oh, we just one tapped him. I don't know what happened. We did it. We did it. We did it. We did it We did it. We did it. Uh, I assume we're gonna end up as a different uh guy here. So It was kind of fun to play as him for for at least a little while. Oh, that's We've been waiting the whole time For some of this. Okay, so we can go bang bang bang bang bang bang Was it a counter? What is this? So that's my jump attack. Wait, how much damage did we do? Um What is happening I don't know how we ended up doing that but that was bonkers. Do you know what the damage is like obviously good But it's not insane Get your raggedy do do looking at okay. I think it's this way. All right Let's go. That's wrong And then we hit with the shoot dude. This is this is actually unfair Dude dude dude look at this Now no no we get real fight look at this dodge bro Wait, how do I use that move that I used before? Do I'm dashing around in the air? Okay, he landed ahead He's trying it dude. We're not even the strongest version of her. Oh My god, the one boat that did these combos are going crazy Huh, we might just be the goats. I don't know who we're better spawn back in as but um Ain't gonna be no better than that. I don't think Anyway, um would have been cool to get him at an actual hard boss fight, but Oh my god dude. Do what is happening I just I just held this sprint button my uh oh Hey, okay, so it's up Here okay watch watch how I'm about to pull up on him. Yeah, let me let him speak. Let me let him speak Tell him me not to become the elder lord. I'll tell you he's gonna become the elder lord, right? That's right That's right bro. Don't try nothing. You don't know our beans You don't know the stuff I've done. Oh, no, no, no, let you get back up bro. Don't wait. Don't wait. No, yeah I'll let you get back up you ain't getting nowhere bro. Oh you still alive huh? Nope All right, let's see who we get we're gonna need something good. We're gonna need something good Then there's not many left and I'll tell you we're missing some big ones We are on a roll. This is exactly what I needed. This is exactly what I needed for something like the next fight I'm not even gonna test some moves out until I'm in there. We're just gonna see what happens Okay, so my dash is an attack and then we have We can do whatever that is swing the blade at him Okay, okay Uh-huh You're I can't even see him. Oh, that does hurt Oh, I hit him straight. Yeah, okay. Wait. He is kind of dangerous though. All right. All right. Let's use my special Let's do that again Slant back down on it. Oh, this is a massacre bro. Hey, hey, horror Lou, bro. Hey, guess what? Fidget spinner, bro. That was overpowered. I feel bad. I actually feel bad. We might be that guy Now are we playing as one of the strongest bosses in the game? Yes. Let's see what luck we get For the final boss That's not good. That is not good boy. Now. I'm gonna go give it my best shot. I'm not gonna give up hope I guess we'll just have to give it a go. Let's just try it. Let's just try it. Let's just try it This is such a disaster. I don't know if this is the same guys earlier I have a feeling this is a weaker version. Let's find out All right. We've got no summons All right. How much damage we do? Oh, okay. Okay. Okay. Wait. Wait. Wait. Wait. Wait. Wait. Wait All right, we We're just so weak even like Absolutely just bashing his is braining with barely doing any damage Uh shield shields Okay, good thing he doesn't heal because let me see we are not doing enough damage. No way am I beating him like this for surely not That was done. That was done. That was done. That was done. That was done. That was really done I'll tell you my heart wasn't in it. Yeah, if I'm being honest that was not uh, I just didn't believe we were beating the old and beast with this guy Oh, yeah, oh do Oh, but he's getting done. Okay. Okay. I'm not even wasting time. Let's go. Let's just go dude. I can't see him Okay, but it's not even fair We're trading blows. Oh Dude dude Dude, I'm just stomping on him. Oh my god. That was my dash, bro He can't catch me when I when I'm popping one of those. All right. What is our our special move regal roll? What does that do? Okay, it kind of stuns in then this is actually insane. Okay wait Wait dodge dodge easy. Okay, I didn't dodge that He's done. He's done. He's done. He's done. All right. I have no idea if it's gonna morph me into a different mob Um But like I would do with steaming right now. Okay. Okay Oh, what is this dude? Why is he looks a swan Okay, let's do it. Let's do it We just tank the fire. All right. Wait. What can we do? This is gonna be insane Okay, okay, he could still definitely be us and then I have to restart both fights And I would not have these uh these characters so there's kind of a lot riding on this Okay, where are you doing that move where he puts our rings on the floor? All right batten batten batten That was huge. He's just light that bro. What is even happening Uh Um go Bro do that again Go go go go go Did we do it? Get him Oh my god, what sick way to end it though God slain Dude, this is crazy. I know where they got Ratan on the phone If you enjoyed click one of these videos on screen and uh, yeah, sniff my feet and uh, you know, it is\""
      ]
     },
     "execution_count": 6,
     "metadata": {},
     "output_type": "execute_result"
    }
   ],
   "source": [
    "import whisper\n",
    "\n",
    "def transcribe_video(video_path):\n",
    "    model = whisper.load_model(\"base\")\n",
    "    result = model.transcribe(video_path)\n",
    "    print(\"Transcript: \", result['text'])\n",
    "    return result['text']\n",
    "\n",
    "# Example usage\n",
    "transcribe_video(\"input_video.mp4\")"
   ]
  },
  {
   "cell_type": "code",
   "execution_count": 7,
   "metadata": {},
   "outputs": [
    {
     "name": "stdout",
     "output_type": "stream",
     "text": [
      "Trimmed video saved to: highlight.mp4\n"
     ]
    }
   ],
   "source": [
    "import subprocess\n",
    "\n",
    "def trim_video(input_path, output_path, start_time, duration):\n",
    "    command = [\n",
    "        'ffmpeg',\n",
    "        '-i', input_path,\n",
    "        '-ss', str(start_time),\n",
    "        '-t', str(duration),\n",
    "        '-c:v', 'libx264',\n",
    "        '-c:a', 'aac',\n",
    "        output_path\n",
    "    ]\n",
    "    subprocess.run(command)\n",
    "    print(f\"Trimmed video saved to: {output_path}\")\n",
    "\n",
    "# Example usage: Trim a 15-second highlight\n",
    "trim_video(\"input_video.mp4\", \"highlight.mp4\", 30, 15)\n"
   ]
  },
  {
   "cell_type": "code",
   "execution_count": 10,
   "metadata": {},
   "outputs": [
    {
     "name": "stdout",
     "output_type": "stream",
     "text": [
      "CTA added: final_ad.mp4\n"
     ]
    }
   ],
   "source": [
    "def add_cta_overlay(input_path, output_path, text=\"Buy Now!\"):\n",
    "    command = [\n",
    "        'ffmpeg',\n",
    "        '-i', input_path,\n",
    "        '-vf', f\"drawtext=text='{text}':x=10:y=10:fontsize=24:fontcolor=white\",\n",
    "        output_path\n",
    "    ]\n",
    "    subprocess.run(command)\n",
    "    print(f\"CTA added: {output_path}\")\n",
    "\n",
    "# Example usage\n",
    "add_cta_overlay(\"highlight.mp4\", \"final_ad.mp4\", \"Limited Time Offer!\")"
   ]
  }
 ],
 "metadata": {
  "kernelspec": {
   "display_name": "Video",
   "language": "python",
   "name": "python3"
  },
  "language_info": {
   "codemirror_mode": {
    "name": "ipython",
    "version": 3
   },
   "file_extension": ".py",
   "mimetype": "text/x-python",
   "name": "python",
   "nbconvert_exporter": "python",
   "pygments_lexer": "ipython3",
   "version": "3.12.9"
  }
 },
 "nbformat": 4,
 "nbformat_minor": 2
}
